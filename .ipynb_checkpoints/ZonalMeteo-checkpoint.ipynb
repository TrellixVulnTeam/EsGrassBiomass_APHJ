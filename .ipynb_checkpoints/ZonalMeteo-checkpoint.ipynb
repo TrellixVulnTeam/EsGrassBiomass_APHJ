{
 "cells": [
  {
   "cell_type": "code",
   "execution_count": 1,
   "id": "ccdc3b59",
   "metadata": {
    "scrolled": false
   },
   "outputs": [
    {
     "data": {
      "text/html": [
       "<p>To authorize access needed by Earth Engine, open the following\n",
       "        URL in a web browser and follow the instructions:</p>\n",
       "        <p><a href=https://code.earthengine.google.com/client-auth?scopes=https%3A//www.googleapis.com/auth/earthengine%20https%3A//www.googleapis.com/auth/devstorage.full_control&request_id=hBAx_9PuVOOFCibQ4bpOjVzINEqfJUZWxKPNGz_viIA&tc=XVKR6La1KDHfDExhktenVwHrVRRw9UYgI0Y-xsf3DzI&cc=xVqmWy4ssW1-rJu6cxIwndjGCIfk8GmAoyldQdWbP1E>https://code.earthengine.google.com/client-auth?scopes=https%3A//www.googleapis.com/auth/earthengine%20https%3A//www.googleapis.com/auth/devstorage.full_control&request_id=hBAx_9PuVOOFCibQ4bpOjVzINEqfJUZWxKPNGz_viIA&tc=XVKR6La1KDHfDExhktenVwHrVRRw9UYgI0Y-xsf3DzI&cc=xVqmWy4ssW1-rJu6cxIwndjGCIfk8GmAoyldQdWbP1E</a></p>\n",
       "        <p>The authorization workflow will generate a code, which you\n",
       "        should paste in the box below</p>\n",
       "        "
      ],
      "text/plain": [
       "<IPython.core.display.HTML object>"
      ]
     },
     "metadata": {},
     "output_type": "display_data"
    },
    {
     "name": "stdout",
     "output_type": "stream",
     "text": [
      "Enter verification code: 4/1AdQt8qgsh4tkwfk5qE8LG1hi1MH6SvGM1gV74J88KCVI0FoxRIXc2wZEiLs\n",
      "\n",
      "Successfully saved authorization token.\n"
     ]
    },
    {
     "data": {
      "application/vnd.jupyter.widget-view+json": {
       "model_id": "8d80b467123d4339ae7e15176e52002b",
       "version_major": 2,
       "version_minor": 0
      },
      "text/plain": [
       "Map(center=[20, 0], controls=(WidgetControl(options=['position', 'transparent_bg'], widget=HBox(children=(Togg…"
      ]
     },
     "metadata": {},
     "output_type": "display_data"
    }
   ],
   "source": [
    "import geemap\n",
    "import ee\n",
    "Map = geemap.Map()\n",
    "Map"
   ]
  },
  {
   "cell_type": "code",
   "execution_count": 4,
   "id": "43dc7827",
   "metadata": {},
   "outputs": [
    {
     "data": {
      "application/vnd.jupyter.widget-view+json": {
       "model_id": "8d80b467123d4339ae7e15176e52002b",
       "version_major": 2,
       "version_minor": 0
      },
      "text/plain": [
       "Map(bottom=1873.0, center=[38.47939467327645, 103.75488281250001], controls=(WidgetControl(options=['position'…"
      ]
     },
     "metadata": {},
     "output_type": "display_data"
    }
   ],
   "source": [
    "import os\n",
    "# os.environ['PROJ_LIB'] = r'C:\\Users\\Administrator\\Anaconda3\\envs\\py3.8\\Library\\share\\proj'\n",
    "# os.environ['GDAL_DATA'] = r'C:\\Users\\Administrator\\Anaconda3\\envs\\py3.8\\Library\\share'\n",
    "\n",
    "os.environ['HTTP_PROXY'] = 'http://127.0.0.1:10809'\n",
    "chain4 = geemap.shp_to_ee(r\"G:\\1_BeiJingUP\\CarbonReport\\Data\\Climate4region\\CClimate4Regions_4R.shp\")\n",
    "china = geemap.shp_to_ee(r\"G:\\1_BeiJingUP\\CarbonReport\\Data\\Climate4region\\CClimate4Regions_CHN.shp\")\n",
    "\n",
    "Map.addLayer(chain4, {}, 'CHN Climate Boundary')\n",
    "Map\n",
    "\n",
    "days=[31,28,31,30,31,30,31,31,30,31,30,31]"
   ]
  },
  {
   "cell_type": "code",
   "execution_count": 5,
   "id": "21305ac6",
   "metadata": {},
   "outputs": [
    {
     "data": {
      "text/html": [
       "<div>\n",
       "<style scoped>\n",
       "    .dataframe tbody tr th:only-of-type {\n",
       "        vertical-align: middle;\n",
       "    }\n",
       "\n",
       "    .dataframe tbody tr th {\n",
       "        vertical-align: top;\n",
       "    }\n",
       "\n",
       "    .dataframe thead th {\n",
       "        text-align: right;\n",
       "    }\n",
       "</style>\n",
       "<table border=\"1\" class=\"dataframe\">\n",
       "  <thead>\n",
       "    <tr style=\"text-align: right;\">\n",
       "      <th></th>\n",
       "      <th>Id</th>\n",
       "      <th>Name</th>\n",
       "    </tr>\n",
       "  </thead>\n",
       "  <tbody>\n",
       "    <tr>\n",
       "      <th>0</th>\n",
       "      <td>0.0</td>\n",
       "      <td>NaN</td>\n",
       "    </tr>\n",
       "    <tr>\n",
       "      <th>1</th>\n",
       "      <td>NaN</td>\n",
       "      <td>Inland</td>\n",
       "    </tr>\n",
       "    <tr>\n",
       "      <th>2</th>\n",
       "      <td>NaN</td>\n",
       "      <td>QT</td>\n",
       "    </tr>\n",
       "    <tr>\n",
       "      <th>3</th>\n",
       "      <td>NaN</td>\n",
       "      <td>Temperate</td>\n",
       "    </tr>\n",
       "    <tr>\n",
       "      <th>4</th>\n",
       "      <td>NaN</td>\n",
       "      <td>Tropical</td>\n",
       "    </tr>\n",
       "  </tbody>\n",
       "</table>\n",
       "</div>"
      ],
      "text/plain": [
       "    Id       Name\n",
       "0  0.0        NaN\n",
       "1  NaN     Inland\n",
       "2  NaN         QT\n",
       "3  NaN  Temperate\n",
       "4  NaN   Tropical"
      ]
     },
     "execution_count": 5,
     "metadata": {},
     "output_type": "execute_result"
    }
   ],
   "source": [
    "roi = china.merge(chain4)\n",
    "import pandas as pd\n",
    "df = pd.DataFrame([roi.getInfo()['features'][n]['properties'] for n in range(roi.size().getInfo())])\n",
    "df"
   ]
  },
  {
   "cell_type": "markdown",
   "id": "cdff155c",
   "metadata": {},
   "source": [
    "# PRCP"
   ]
  },
  {
   "cell_type": "code",
   "execution_count": 51,
   "id": "68bd3b45",
   "metadata": {
    "scrolled": true
   },
   "outputs": [
    {
     "name": "stdout",
     "output_type": "stream",
     "text": [
      "1981 ->     Id       Name      1981\n",
      "0  0.0        NaN  0.844958\n",
      "1  NaN     Inland  0.302834\n",
      "2  NaN         QT  0.612040\n",
      "3  NaN  Temperate  0.752772\n",
      "4  NaN   Tropical  1.879853\n"
     ]
    }
   ],
   "source": [
    "for year in range(1981,2021):\n",
    "    yrImgC = ee.Image(0)\n",
    "    print(year,end=' -> ')\n",
    "    for month in range(1,13):\n",
    "        # Change the numbers of the days in every month\n",
    "        if (year//4==0):\n",
    "            days[1]=29\n",
    "        else:\n",
    "            days[1]=28\n",
    "        start_date = str(year) + '-' + str(month).zfill(2) + '-01'\n",
    "        end_date = str(year) + '-' + str(month).zfill(2) + '-' + str(days[month-1])\n",
    "        # print(start_date+' To '+end_date)\n",
    "        era5_imgC = ee.ImageCollection(\"ECMWF/ERA5_LAND/MONTHLY\").select(\"total_precipitation\").filterDate(start_date,end_date)\n",
    "        # print('Numbers of Month Image: 'era5_imgC.size().getInfo())\n",
    "        \n",
    "        # Calculate the monthly value\n",
    "        era5_month = era5_imgC.mean().multiply(1000*days[month-1]) # or use era5_imgC.first().multiply(days[month])\n",
    "        \n",
    "        # Calculate yearly value-------SUM\n",
    "        yrImgC = yrImgC.add(era5_month)\n",
    "    \n",
    "    # Zonal Stati\n",
    "    fes = geemap.zonal_statistics(yrImgC,roi,r\"G:\\1_BeiJingUP\\CarbonReport\\Data_0728\\GEE_ERA5_total_precipitation.csv\",\n",
    "                                      \"MEAN\",return_fc=True,scale=11132)\n",
    "    df[str(year)] = pd.DataFrame([fes.getInfo()['features'][n]['properties'] for n in range(roi.size().getInfo())])[\"mean\"]\n",
    "    # Map.addLayer(yrImgC, {}, 'Yearly PRCP')\n",
    "    \n",
    "# Save Outcome\n",
    "df.to_excel(r\"G:\\1_BeiJingUP\\CarbonReport\\Data_0728\\ERA5_total_precipitation.xlsx\",index=None)\n",
    "print('\\n',df)"
   ]
  },
  {
   "cell_type": "markdown",
   "id": "99879366",
   "metadata": {},
   "source": [
    "# TAVG"
   ]
  },
  {
   "cell_type": "code",
   "execution_count": 76,
   "id": "c7291b1b",
   "metadata": {},
   "outputs": [
    {
     "name": "stdout",
     "output_type": "stream",
     "text": [
      "1981 -> Computing statistics ...\n",
      "\n",
      "     Id       Name       1981\n",
      "0  0.0        NaN  -9.053704\n",
      "1  NaN     Inland -11.879489\n",
      "2  NaN         QT -15.598512\n",
      "3  NaN  Temperate -13.316132\n",
      "4  NaN   Tropical   5.330557\n"
     ]
    }
   ],
   "source": [
    "# for year in range(1981,2020):\n",
    "#     era5 = ee.ImageCollection(\"ECMWF/ERA5_LAND/MONTHLY\").select(\"temperature_2m\").filterDate(str(year),str(year+1)).mean()\n",
    "#     fes = geemap.zonal_statistics(era5,roi,r\"C:\\Users\\Administrator\\Desktop\\temperature_2m.csv\",\n",
    "#                         \"MEAN\",return_fc=True,scale=11132)\n",
    "#     df[str(year)] = pd.DataFrame([fes.getInfo()['features'][n]['properties'] for n in range(roi.size().getInfo())])[\"mean\"]\n",
    "#     df.to_excel(r\"D:\\project\\done\\temperature_2m.xlsx\",index=None)\n",
    "\n",
    "for year in range(1981,2021):\n",
    "    yrImgC = ee.Image(0)\n",
    "    print(year,end=' -> ')\n",
    "    for month in range(1,13):\n",
    "        # Change the numbers of the days in every month\n",
    "        if (year//4==0):\n",
    "            days[1]=29\n",
    "        else:\n",
    "            days[1]=28\n",
    "        start_date = str(year) + '-' + str(month).zfill(2) + '-01'\n",
    "        end_date = str(year) + '-' + str(month).zfill(2) + '-' + str(days[month-1])\n",
    "        # print(start_date+' To '+end_date)\n",
    "        era5_imgC = ee.ImageCollection(\"ECMWF/ERA5_LAND/MONTHLY\").select(\"temperature_2m\").filterDate(start_date,end_date)\n",
    "        # print('Numbers of Month Image: 'era5_imgC.size().getInfo())\n",
    "        \n",
    "        # Calculate the monthly value\n",
    "        era5_month = (era5_imgC.mean().subtract(273.15).multiply(days[month-1])) # or use era5_imgC.first().multiply(days[month])\n",
    "        yrImgC = yrImgC.add(era5_month)\n",
    "    \n",
    "    # Calculate yearly value-------MEAN\n",
    "    yrImgC = yrImgC.divide(sum(days))\n",
    "    \n",
    "    # Zonal Stati\n",
    "    fes = geemap.zonal_statistics(yrImgC,roi,r\"G:\\1_BeiJingUP\\CarbonReport\\Data_0728\\GEE_ERA5_temperature_2m.csv\",\n",
    "                                      \"MEAN\",return_fc=True,scale=11132)\n",
    "    df[str(year)] = pd.DataFrame([fes.getInfo()['features'][n]['properties'] for n in range(roi.size().getInfo())])[\"mean\"]\n",
    "    # Map.addLayer(yrImgC, {}, 'Yearly PRCP')\n",
    "    \n",
    "# Save Outcome\n",
    "df.to_excel(r\"G:\\1_BeiJingUP\\CarbonReport\\Data_0728\\ERA5_temperature_2m.xlsx\",index=None)\n",
    "print('\\n',df)"
   ]
  },
  {
   "cell_type": "markdown",
   "id": "210d186d",
   "metadata": {},
   "source": [
    "# SWRS"
   ]
  },
  {
   "cell_type": "code",
   "execution_count": 62,
   "id": "3641e443",
   "metadata": {
    "collapsed": true
   },
   "outputs": [
    {
     "name": "stdout",
     "output_type": "stream",
     "text": [
      "1981 -> Computing statistics ...\n",
      "    Id       Name          1981\n",
      "0  0.0        NaN  1.661934e+07\n",
      "1  NaN     Inland  1.698970e+07\n",
      "2  NaN         QT  2.059251e+07\n",
      "3  NaN  Temperate  1.458467e+07\n",
      "4  NaN   Tropical  1.345263e+07\n"
     ]
    }
   ],
   "source": [
    "# for year in range(1981,2020):\n",
    "#     era5 = ee.ImageCollection(\"ECMWF/ERA5_LAND/MONTHLY\").select(\"surface_solar_radiation_downwards\").filterDate(str(year),str(year+1)).sum()\n",
    "#     fes = geemap.zonal_statistics(era5,roi,r\"C:\\Users\\Administrator\\Desktop\\surface_solar_radiation_downwards.csv\",\n",
    "#                         \"MEAN\",return_fc=True,scale=11132)\n",
    "#     df[str(year)] = pd.DataFrame([fes.getInfo()['features'][n]['properties'] for n in range(roi.size().getInfo())])[\"mean\"]\n",
    "# df.to_excel(r\"D:\\project\\done\\surface_solar_radiation_downwards.xlsx\",index=None)\n",
    "\n"
   ]
  },
  {
   "cell_type": "code",
   "execution_count": 75,
   "id": "98add19c",
   "metadata": {
    "scrolled": true
   },
   "outputs": [
    {
     "data": {
      "application/vnd.jupyter.widget-view+json": {
       "model_id": "8d80b467123d4339ae7e15176e52002b",
       "version_major": 2,
       "version_minor": 0
      },
      "text/plain": [
       "Map(bottom=1171.0, center=[25.958044673317843, 116.45507812500001], controls=(WidgetControl(options=['position…"
      ]
     },
     "metadata": {},
     "output_type": "display_data"
    }
   ],
   "source": [
    "Map\n"
   ]
  }
 ],
 "metadata": {
  "hide_input": false,
  "kernelspec": {
   "display_name": "Python 3",
   "language": "python",
   "name": "python3"
  },
  "language_info": {
   "codemirror_mode": {
    "name": "ipython",
    "version": 3
   },
   "file_extension": ".py",
   "mimetype": "text/x-python",
   "name": "python",
   "nbconvert_exporter": "python",
   "pygments_lexer": "ipython3",
   "version": "3.7.6"
  },
  "varInspector": {
   "cols": {
    "lenName": 16,
    "lenType": 16,
    "lenVar": 40
   },
   "kernels_config": {
    "python": {
     "delete_cmd_postfix": "",
     "delete_cmd_prefix": "del ",
     "library": "var_list.py",
     "varRefreshCmd": "print(var_dic_list())"
    },
    "r": {
     "delete_cmd_postfix": ") ",
     "delete_cmd_prefix": "rm(",
     "library": "var_list.r",
     "varRefreshCmd": "cat(var_dic_list()) "
    }
   },
   "types_to_exclude": [
    "module",
    "function",
    "builtin_function_or_method",
    "instance",
    "_Feature"
   ],
   "window_display": false
  }
 },
 "nbformat": 4,
 "nbformat_minor": 5
}
