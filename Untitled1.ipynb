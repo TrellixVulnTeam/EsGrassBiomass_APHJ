{
 "cells": [
  {
   "cell_type": "code",
   "execution_count": 2,
   "id": "bc16e4b8",
   "metadata": {},
   "outputs": [],
   "source": [
    "from osgeo import gdal\n",
    "from osgeo import osr\n",
    "from osgeo import ogr\n",
    "import pandas as pd\n",
    "import sys, os, math\n",
    "\n",
    "## Parallel Processing of Raster\n",
    "from rasterio.enums import Resampling\n",
    "from rasterio.windows import Window\n",
    "import time,multiprocessing\n",
    "from multiprocessing import Manager\n",
    "from glob import glob\n",
    "import numpy as np\n",
    "from ctypes import c_char_p\n",
    "from tqdm import tqdm\n",
    "import rasterio\n",
    "from rasterio.windows import Window\n",
    "from rasterio.warp import calculate_default_transform, reproject, Resampling\n",
    "\n",
    "def read_img(filename):\n",
    "    \"\"\"\n",
    "    filename: str,要读取的栅格文件\n",
    "    return: 函数输入图像所在的路径，输出图像的投影，仿射矩阵以及图像数组\\n\n",
    "    \"\"\"\n",
    "    dataset = gdal.Open(filename)\n",
    "    im_width = dataset.RasterXSize #栅格矩阵的列数\n",
    "    im_height = dataset.RasterYSize #栅格矩阵的行数\n",
    "    im_geotrans = dataset.GetGeoTransform() #仿射矩阵\n",
    "    im_proj = dataset.GetProjection() #地图投影\n",
    "    im_data = dataset.ReadAsArray(0,0,im_width,im_height)\n",
    "    del dataset\n",
    "    return im_proj,im_geotrans,im_data\n"
   ]
  },
  {
   "cell_type": "code",
   "execution_count": 3,
   "id": "8f32b99d",
   "metadata": {},
   "outputs": [],
   "source": [
    "# LAI Data\n",
    "lai = r\"I:\\Integrated_analysis_data\\Data\\1Y\\LAI_2003_2017_1y\"\n",
    "# data Path\n",
    "datPath = [r\"I:\\Integrated_analysis_data\\Data\\1Y\\Geodata_2000_2017_1y\",\n",
    "          r\"I:\\Integrated_analysis_data\\Data\\1Y\\GLASS_2000_2017_1y\",\n",
    "          r\"I:\\Integrated_analysis_data\\Data\\1Y\\MODIS_2000_2017_1y\",\n",
    "          r\"I:\\Integrated_analysis_data\\Data\\1Y\\TPDC_2000_2017_1y\",\n",
    "          r\"I:\\Integrated_analysis_data\\Data\\1Y\\W_2000_2017_1y\"]\n",
    "# data file key word\n",
    "dataKey = [r'Mul_',\n",
    "          r'Mul_',\n",
    "          r'Mul_',\n",
    "          r'Mul_',\n",
    "          r'Mul_']\n",
    "# The R square of the data and LAI\n",
    "r2Path = [r\"I:\\Integrated_analysis_data\\Data\\Out\\R2_Geodata\\R2_geodata_setnodata.tif\",\n",
    "          r\"I:\\Integrated_analysis_data\\Data\\Out\\R2_GLASS\\R2_Glass_setnodata.tif\",\n",
    "          r\"I:\\Integrated_analysis_data\\Data\\Out\\R2_MODIS\\R2_Modis_setnodata.tif\",\n",
    "          r\"I:\\Integrated_analysis_data\\Data\\Out\\R2_TPDC\\R2_TPDC_setnodata.tif\",\n",
    "          r\"I:\\Integrated_analysis_data\\Data\\Out\\R2_W\\R2_W_setnodata.tif\"]"
   ]
  },
  {
   "cell_type": "code",
   "execution_count": null,
   "id": "aaf3d4e3",
   "metadata": {},
   "outputs": [],
   "source": [
    "for mdl in range(len(datPath)):\n",
    "    "
   ]
  },
  {
   "cell_type": "code",
   "execution_count": null,
   "id": "d2f9e1ff",
   "metadata": {},
   "outputs": [],
   "source": []
  },
  {
   "cell_type": "code",
   "execution_count": null,
   "id": "760b1afc",
   "metadata": {},
   "outputs": [],
   "source": []
  },
  {
   "cell_type": "code",
   "execution_count": null,
   "id": "2b6999a1",
   "metadata": {},
   "outputs": [],
   "source": []
  },
  {
   "cell_type": "code",
   "execution_count": null,
   "id": "f529ec70",
   "metadata": {},
   "outputs": [],
   "source": []
  },
  {
   "cell_type": "code",
   "execution_count": null,
   "id": "d1349edc",
   "metadata": {},
   "outputs": [],
   "source": []
  },
  {
   "cell_type": "code",
   "execution_count": null,
   "id": "4a8da86c",
   "metadata": {},
   "outputs": [],
   "source": []
  },
  {
   "cell_type": "code",
   "execution_count": null,
   "id": "d5ae5726",
   "metadata": {},
   "outputs": [],
   "source": []
  }
 ],
 "metadata": {
  "hide_input": false,
  "kernelspec": {
   "display_name": "Python 3",
   "language": "python",
   "name": "python3"
  },
  "language_info": {
   "codemirror_mode": {
    "name": "ipython",
    "version": 3
   },
   "file_extension": ".py",
   "mimetype": "text/x-python",
   "name": "python",
   "nbconvert_exporter": "python",
   "pygments_lexer": "ipython3",
   "version": "3.7.6"
  },
  "varInspector": {
   "cols": {
    "lenName": 16,
    "lenType": 16,
    "lenVar": 40
   },
   "kernels_config": {
    "python": {
     "delete_cmd_postfix": "",
     "delete_cmd_prefix": "del ",
     "library": "var_list.py",
     "varRefreshCmd": "print(var_dic_list())"
    },
    "r": {
     "delete_cmd_postfix": ") ",
     "delete_cmd_prefix": "rm(",
     "library": "var_list.r",
     "varRefreshCmd": "cat(var_dic_list()) "
    }
   },
   "types_to_exclude": [
    "module",
    "function",
    "builtin_function_or_method",
    "instance",
    "_Feature"
   ],
   "window_display": false
  }
 },
 "nbformat": 4,
 "nbformat_minor": 5
}
